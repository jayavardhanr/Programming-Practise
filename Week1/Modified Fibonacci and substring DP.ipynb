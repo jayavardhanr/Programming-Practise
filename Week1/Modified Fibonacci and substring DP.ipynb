{
 "cells": [
  {
   "cell_type": "code",
   "execution_count": 10,
   "metadata": {
    "scrolled": false
   },
   "outputs": [
    {
     "name": "stdout",
     "output_type": "stream",
     "text": [
      "1 2 4\n"
     ]
    }
   ],
   "source": [
    "t1,t2,n=[int(l) for l in raw_input().split(' ')]"
   ]
  },
  {
   "cell_type": "code",
   "execution_count": 11,
   "metadata": {},
   "outputs": [
    {
     "data": {
      "text/plain": [
       "1"
      ]
     },
     "execution_count": 11,
     "metadata": {},
     "output_type": "execute_result"
    }
   ],
   "source": [
    "t1"
   ]
  },
  {
   "cell_type": "code",
   "execution_count": 6,
   "metadata": {},
   "outputs": [
    {
     "name": "stdout",
     "output_type": "stream",
     "text": [
      "5\n"
     ]
    }
   ],
   "source": [
    "t1=1\n",
    "t2=2\n",
    "N=3\n",
    "\n",
    "if N>1:\n",
    "    for _ in range(N-2):\n",
    "        t3=t1+t2*t2\n",
    "        t1=t2\n",
    "        t2=t3\n",
    "    print(t2)\n",
    "else:\n",
    "    print(t1)"
   ]
  },
  {
   "cell_type": "code",
   "execution_count": 43,
   "metadata": {},
   "outputs": [],
   "source": [
    "N='1'\n",
    "sum1=0\n",
    "def sub_string_add(N,i,j):\n",
    "    print(N,i,j)\n",
    "    global sum1\n",
    "    if i==j:\n",
    "        sum1+=int(N[i])\n",
    "    elif len(N[i:j+1])==2:\n",
    "        sum1+=int(N[i])+int(N[j])+int(N[i]+N[j])\n",
    "    else:\n",
    "        sum1+=int(N[i])+int(N)+int(N[i]+N[i+1])\n",
    "        print(N,i)\n",
    "        sub_string_add(N,i+1,len(N)-1)"
   ]
  },
  {
   "cell_type": "code",
   "execution_count": 44,
   "metadata": {},
   "outputs": [
    {
     "name": "stdout",
     "output_type": "stream",
     "text": [
      "('1', 0, 0)\n"
     ]
    },
    {
     "data": {
      "text/plain": [
       "1"
      ]
     },
     "execution_count": 44,
     "metadata": {},
     "output_type": "execute_result"
    }
   ],
   "source": [
    "sub_string_add(N,0,0)\n",
    "sum1"
   ]
  },
  {
   "cell_type": "code",
   "execution_count": 51,
   "metadata": {},
   "outputs": [
    {
     "name": "stdout",
     "output_type": "stream",
     "text": [
      "123\n",
      "136\n"
     ]
    }
   ],
   "source": [
    "sum1=0\n",
    "N=raw_input()\n",
    "length=len(N)\n",
    "for i in range(length):\n",
    "    sum1+=int(''.join(([N[i]]*(length-i))))\n",
    "print(sum1)"
   ]
  },
  {
   "cell_type": "code",
   "execution_count": null,
   "metadata": {
    "collapsed": true
   },
   "outputs": [],
   "source": [
    "111+22+3"
   ]
  }
 ],
 "metadata": {
  "kernelspec": {
   "display_name": "Python 2",
   "language": "python",
   "name": "python2"
  },
  "language_info": {
   "codemirror_mode": {
    "name": "ipython",
    "version": 2
   },
   "file_extension": ".py",
   "mimetype": "text/x-python",
   "name": "python",
   "nbconvert_exporter": "python",
   "pygments_lexer": "ipython2",
   "version": "2.7.13"
  }
 },
 "nbformat": 4,
 "nbformat_minor": 2
}
