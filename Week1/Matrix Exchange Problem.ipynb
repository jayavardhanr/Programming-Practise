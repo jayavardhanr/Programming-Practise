{
 "cells": [
  {
   "cell_type": "code",
   "execution_count": 5,
   "metadata": {},
   "outputs": [
    {
     "name": "stdout",
     "output_type": "stream",
     "text": [
      "2\n",
      "2\n",
      "1 3\n",
      "3 2\n",
      "Possible\n",
      "3\n",
      "1 2 3\n",
      "3 1 2\n",
      "2 3 1\n",
      "Possible\n"
     ]
    }
   ],
   "source": [
    "#!/bin/python\n",
    "\n",
    "import sys\n",
    "q = int(raw_input().strip())\n",
    "for a0 in xrange(q):\n",
    "    n = int(raw_input().strip())\n",
    "    M = []\n",
    "    count=n*[0]\n",
    "    for M_i in xrange(n):\n",
    "        M_temp = map(int,raw_input().strip().split(' '))\n",
    "        M.append(M_temp)\n",
    "        for i in range(n):\n",
    "            if i!=M_i:\n",
    "                count[i]+=M_temp[i]\n",
    "            \n",
    "    if len(set(count))==1:\n",
    "        print(\"Possible\")\n",
    "    else:\n",
    "        print(\"Impossible\")"
   ]
  },
  {
   "cell_type": "code",
   "execution_count": null,
   "metadata": {
    "collapsed": true
   },
   "outputs": [],
   "source": [
    "#!/bin/python\n",
    "\n",
    "import sys\n",
    "q = int(raw_input().strip())\n",
    "for a0 in xrange(q):\n",
    "    n = int(raw_input().strip())\n",
    "    M = []\n",
    "    count=n*[0]\n",
    "    for M_i in xrange(n):\n",
    "        M_temp = map(int,raw_input().strip().split(' '))\n",
    "        M.append(M_temp)\n",
    "        for i in range(n):\n",
    "            if i!=M_i:\n",
    "                count[i]+=M_temp[i]\n",
    "            else:\n",
    "                pass\n",
    "            \n",
    "    if len(set(count))==1:\n",
    "        print(\"Possible\")\n",
    "    else:\n",
    "        print(\"Impossible\")"
   ]
  }
 ],
 "metadata": {
  "kernelspec": {
   "display_name": "Python 2",
   "language": "python",
   "name": "python2"
  },
  "language_info": {
   "codemirror_mode": {
    "name": "ipython",
    "version": 2
   },
   "file_extension": ".py",
   "mimetype": "text/x-python",
   "name": "python",
   "nbconvert_exporter": "python",
   "pygments_lexer": "ipython2",
   "version": "2.7.13"
  }
 },
 "nbformat": 4,
 "nbformat_minor": 2
}
