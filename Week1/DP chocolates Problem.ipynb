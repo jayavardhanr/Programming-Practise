{
 "cells": [
  {
   "cell_type": "code",
   "execution_count": null,
   "metadata": {},
   "outputs": [],
   "source": [
    "def Function(list_of_choclates,i):\n",
    "    values=list_of_choclates[:]\n",
    "    if len(set(values))==1:\n",
    "        return 0\n",
    "    else:\n",
    "        if i==0:\n",
    "            one_choc,two_choc,five_choc=Function(values,2),Function(values,1),Function(values,5)\n",
    "            return min([one_choc,two_choc,five_choc])\n",
    "        else:\n",
    "            max_value_index=values.index(max(values))\n",
    "            if values[max_value_index]-i>0:\n",
    "                values[max_value_index]-=i\n",
    "            else:\n",
    "                return float('inf')\n",
    "            one_choc,two_choc,five_choc=Function(values,2),Function(values,1),Function(values,5)\n",
    "            return min([one_choc,two_choc,five_choc])+1\n",
    "\n",
    "T=int(raw_input())\n",
    "for _ in range(T):\n",
    "    N= int(raw_input())\n",
    "    list_of_choclates=[int(i) for i in raw_input().split(' ')]\n",
    "    print(Function(list_of_choclates,0))"
   ]
  },
  {
   "cell_type": "code",
   "execution_count": 3,
   "metadata": {},
   "outputs": [
    {
     "data": {
      "text/plain": [
       "8"
      ]
     },
     "execution_count": 3,
     "metadata": {},
     "output_type": "execute_result"
    }
   ],
   "source": [
    "# Enter your code here. Read input from STDIN. Print output to STDOUT\n",
    "def Function(list_of_choclates,i):\n",
    "    values=list_of_choclates[:]\n",
    "    if len(set(values))==1:\n",
    "        return 0\n",
    "    else:\n",
    "        if i==0:\n",
    "            one_choc,two_choc,five_choc=Function(values,2),Function(values,1),Function(values,5)\n",
    "            return min([one_choc,two_choc,five_choc])\n",
    "        else:\n",
    "            max_value_index=values.index(max(values))\n",
    "            if values[max_value_index]-i>0:\n",
    "                values[max_value_index]-=i\n",
    "            else:\n",
    "                return float('inf')\n",
    "            one_choc,two_choc,five_choc=Function(values,1),Function(values,2),Function(values,5)\n",
    "            return min([one_choc,two_choc,five_choc])+1\n",
    "\n",
    "'''T=int(raw_input())\n",
    "for _ in range(T):\n",
    "    N= int(raw_input())\n",
    "    list_of_choclates=[int(i) for i in raw_input().split(' ')]\n",
    "    print(Function(list_of_choclates,0))'''\n",
    "\n",
    "Function([2,2,3,8,20],0)"
   ]
  },
  {
   "cell_type": "code",
   "execution_count": null,
   "metadata": {
    "collapsed": true
   },
   "outputs": [],
   "source": [
    "# Enter your code here. Read input from STDIN. Print output to STDOUT\n",
    "def Function(list_of_choclates,i):\n",
    "    values=list_of_choclates[:]\n",
    "    if len(set(values))==1:\n",
    "        return 0\n",
    "    else:\n",
    "        max_value_index=values.index(max(values))\n",
    "        if values[max_value_index]-i>0:\n",
    "            values[max_value_index]-=i\n",
    "        else:\n",
    "            return float('inf')\n",
    "        one_choc,two_choc,five_choc=Function(values,1),Function(values,2),Function(values,5)\n",
    "        return min([one_choc,two_choc,five_choc])+1\n",
    "\n",
    "\n",
    "Function([2,2,3,8,20])"
   ]
  }
 ],
 "metadata": {
  "kernelspec": {
   "display_name": "Python 2",
   "language": "python",
   "name": "python2"
  },
  "language_info": {
   "codemirror_mode": {
    "name": "ipython",
    "version": 2
   },
   "file_extension": ".py",
   "mimetype": "text/x-python",
   "name": "python",
   "nbconvert_exporter": "python",
   "pygments_lexer": "ipython2",
   "version": "2.7.13"
  }
 },
 "nbformat": 4,
 "nbformat_minor": 2
}
