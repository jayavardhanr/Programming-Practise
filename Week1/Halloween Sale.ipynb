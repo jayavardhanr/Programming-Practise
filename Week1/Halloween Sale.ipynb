{
 "cells": [
  {
   "cell_type": "code",
   "execution_count": 14,
   "metadata": {},
   "outputs": [
    {
     "name": "stdout",
     "output_type": "stream",
     "text": [
      "60\n",
      "43\n",
      "29\n",
      "18\n",
      "10\n",
      "(10, 5)\n",
      "6\n"
     ]
    }
   ],
   "source": [
    "p,d,m,s=20,3,6,80\n",
    "count=0\n",
    "flag=True\n",
    "\n",
    "for i in range(((p-m)/d)+1):\n",
    "    s=s-(p-(i*d))\n",
    "    print(s)\n",
    "    if s>m:\n",
    "        count+=1\n",
    "    else:\n",
    "        flag=False\n",
    "        break\n",
    "\n",
    "print(s,count)\n",
    "if flag:\n",
    "    count=count+(s/m)\n",
    "\n",
    "print(count)"
   ]
  },
  {
   "cell_type": "code",
   "execution_count": null,
   "metadata": {
    "collapsed": true
   },
   "outputs": [],
   "source": []
  }
 ],
 "metadata": {
  "kernelspec": {
   "display_name": "Python 2",
   "language": "python",
   "name": "python2"
  },
  "language_info": {
   "codemirror_mode": {
    "name": "ipython",
    "version": 2
   },
   "file_extension": ".py",
   "mimetype": "text/x-python",
   "name": "python",
   "nbconvert_exporter": "python",
   "pygments_lexer": "ipython2",
   "version": "2.7.13"
  }
 },
 "nbformat": 4,
 "nbformat_minor": 2
}
